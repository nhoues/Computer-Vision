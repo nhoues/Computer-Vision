{
  "nbformat": 4,
  "nbformat_minor": 0,
  "metadata": {
    "colab": {
      "name": "remove backround with open CV.ipynb",
      "provenance": [],
      "collapsed_sections": [],
      "toc_visible": true
    },
    "kernelspec": {
      "name": "python3",
      "display_name": "Python 3"
    }
  },
  "cells": [
    {
      "cell_type": "code",
      "metadata": {
        "id": "racni6v__a0o",
        "colab_type": "code",
        "colab": {}
      },
      "source": [
        "import numpy as np\n",
        "import pandas as pd\n",
        "import cv2\n",
        "from tqdm import tqdm\n",
        "tqdm.pandas()\n",
        "import matplotlib.pyplot as plt\n",
        "from mpl_toolkits.axes_grid1 import ImageGrid"
      ],
      "execution_count": 0,
      "outputs": []
    },
    {
      "cell_type": "code",
      "metadata": {
        "id": "7-zPK4CR_77c",
        "colab_type": "code",
        "colab": {}
      },
      "source": [
        "train = pd.read_csv('/content/drive/My Drive/Zindi problems /Third/train_folds.csv')"
      ],
      "execution_count": 0,
      "outputs": []
    },
    {
      "cell_type": "code",
      "metadata": {
        "id": "Z3b_dH3TAWuk",
        "colab_type": "code",
        "colab": {}
      },
      "source": [
        "def load_image(img_path):\n",
        "  image = cv2.imread(img_path)\n",
        "  return cv2.cvtColor(image, cv2.COLOR_BGR2RGB)"
      ],
      "execution_count": 0,
      "outputs": []
    },
    {
      "cell_type": "code",
      "metadata": {
        "id": "2YAIb6OGDpWU",
        "colab_type": "code",
        "outputId": "6c1e258b-5ceb-4536-ce34-22b19ca27cc1",
        "colab": {
          "base_uri": "https://localhost:8080/",
          "height": 162
        }
      },
      "source": [
        "train_images = train[\"im_path\"].sample(10, random_state=2020).progress_apply(load_image)"
      ],
      "execution_count": 0,
      "outputs": [
        {
          "output_type": "error",
          "ename": "NameError",
          "evalue": "ignored",
          "traceback": [
            "\u001b[0;31m---------------------------------------------------------------------------\u001b[0m",
            "\u001b[0;31mNameError\u001b[0m                                 Traceback (most recent call last)",
            "\u001b[0;32m<ipython-input-4-f381de7e3274>\u001b[0m in \u001b[0;36m<module>\u001b[0;34m()\u001b[0m\n\u001b[0;32m----> 1\u001b[0;31m \u001b[0mtrain_images\u001b[0m \u001b[0;34m=\u001b[0m \u001b[0mtrain\u001b[0m\u001b[0;34m[\u001b[0m\u001b[0;34m\"im_path\"\u001b[0m\u001b[0;34m]\u001b[0m\u001b[0;34m.\u001b[0m\u001b[0msample\u001b[0m\u001b[0;34m(\u001b[0m\u001b[0;36m10\u001b[0m\u001b[0;34m,\u001b[0m \u001b[0mrandom_state\u001b[0m\u001b[0;34m=\u001b[0m\u001b[0;36m2020\u001b[0m\u001b[0;34m)\u001b[0m\u001b[0;34m.\u001b[0m\u001b[0mprogress_apply\u001b[0m\u001b[0;34m(\u001b[0m\u001b[0mload_image\u001b[0m\u001b[0;34m)\u001b[0m\u001b[0;34m\u001b[0m\u001b[0;34m\u001b[0m\u001b[0m\n\u001b[0m",
            "\u001b[0;31mNameError\u001b[0m: name 'train' is not defined"
          ]
        }
      ]
    },
    {
      "cell_type": "code",
      "metadata": {
        "id": "TeHLmx4MD1kJ",
        "colab_type": "code",
        "outputId": "aec53fd7-34cc-4c8f-d05f-f5e9ce189a94",
        "colab": {
          "base_uri": "https://localhost:8080/",
          "height": 286
        }
      },
      "source": [
        "def init_grabcut_mask(h, w):\n",
        "    mask = np.ones((h, w), np.uint8) * cv2.GC_PR_BGD\n",
        "    mask[h//4:3*h//4, w//4:3*w//4] = cv2.GC_PR_FGD\n",
        "    mask[2*h//5:3*h//5, 2*w//5:3*w//5] = cv2.GC_FGD\n",
        "    return mask\n",
        "\n",
        "plt.imshow(init_grabcut_mask(3*136, 3*205))"
      ],
      "execution_count": 0,
      "outputs": [
        {
          "output_type": "execute_result",
          "data": {
            "text/plain": [
              "<matplotlib.image.AxesImage at 0x7f90a2dd9860>"
            ]
          },
          "metadata": {
            "tags": []
          },
          "execution_count": 5
        },
        {
          "output_type": "display_data",
          "data": {
            "image/png": "[encoded data removed]",
            "text/plain": [
              "<Figure size 432x288 with 1 Axes>"
            ]
          },
          "metadata": {
            "tags": []
          }
        }
      ]
    },
    {
      "cell_type": "code",
      "metadata": {
        "id": "hGO1gpV6D6bN",
        "colab_type": "code",
        "colab": {}
      },
      "source": [
        "def add_contours(image, mask):\n",
        "    contours, _ = cv2.findContours(mask, cv2.RETR_EXTERNAL, cv2.CHAIN_APPROX_NONE)\n",
        "    \n",
        "    if len(contours) != 0:\n",
        "        cv2.drawContours(image, contours, -1, (255, 0, 0), 3)\n",
        "        c = max(contours, key = cv2.contourArea)\n",
        "        x,y,w,h = cv2.boundingRect(c)\n",
        "        cv2.rectangle(image, (x, y), (x+w, y+h), (0, 255, 0) ,2)\n",
        "    \n",
        "\n",
        "\n",
        "def remove_background(image):\n",
        "    h, w = image.shape[:2]\n",
        "    mask = init_grabcut_mask(h, w)\n",
        "    bgm = np.zeros((1, 65), np.float64)\n",
        "    fgm = np.zeros((1, 65), np.float64)\n",
        "    cv2.grabCut(image, mask, None, bgm, fgm, 1, cv2.GC_INIT_WITH_MASK)\n",
        "    mask_binary = np.where((mask == 2) | (mask == 0), 0, 1).astype('uint8')\n",
        "    result = cv2.bitwise_and(image, image, mask = mask_binary)\n",
        "    return result"
      ],
      "execution_count": 0,
      "outputs": []
    },
    {
      "cell_type": "code",
      "metadata": {
        "id": "Yb9iGuwAD8vc",
        "colab_type": "code",
        "outputId": "dc13dc69-e84c-4632-eecc-5a9cb1bd34ce",
        "colab": {
          "base_uri": "https://localhost:8080/",
          "height": 390
        }
      },
      "source": [
        "%%time\n",
        "rows, cols = (len(train_images), 2)\n",
        "axes_pad = 0.2\n",
        "fig_h = 4.0 * rows + axes_pad * (rows-1) \n",
        "fig_w = 4.0 * cols + axes_pad * (cols-1) \n",
        "fig = plt.figure(figsize=(fig_w, fig_h))\n",
        "grid = ImageGrid(fig, 111, nrows_ncols=(rows, cols), axes_pad=0.2)   \n",
        "        \n",
        "for i, ax in enumerate(grid):\n",
        "    im = cv2.resize(train_images.iloc[i // 2], (3*205, 3*136))\n",
        "    if i % 2 == 1:\n",
        "        im = remove_background(im)\n",
        "        cv2.imwrite( f'im_path{i}.png', cv2.cvtColor(im, cv2.COLOR_RGB2BGR) )\n",
        "    ax.imshow(im)   \n",
        "  "
      ],
      "execution_count": 0,
      "outputs": [
        {
          "output_type": "error",
          "ename": "NameError",
          "evalue": "ignored",
          "traceback": [
            "\u001b[0;31m---------------------------------------------------------------------------\u001b[0m",
            "\u001b[0;31mNameError\u001b[0m                                 Traceback (most recent call last)",
            "\u001b[0;32m<ipython-input-7-c01479b0840c>\u001b[0m in \u001b[0;36m<module>\u001b[0;34m()\u001b[0m\n\u001b[0;32m----> 1\u001b[0;31m \u001b[0mget_ipython\u001b[0m\u001b[0;34m(\u001b[0m\u001b[0;34m)\u001b[0m\u001b[0;34m.\u001b[0m\u001b[0mrun_cell_magic\u001b[0m\u001b[0;34m(\u001b[0m\u001b[0;34m'time'\u001b[0m\u001b[0;34m,\u001b[0m \u001b[0;34m''\u001b[0m\u001b[0;34m,\u001b[0m \u001b[0;34m\"rows, cols = (len(train_images), 2)\\naxes_pad = 0.2\\nfig_h = 4.0 * rows + axes_pad * (rows-1) \\nfig_w = 4.0 * cols + axes_pad * (cols-1) \\nfig = plt.figure(figsize=(fig_w, fig_h))\\ngrid = ImageGrid(fig, 111, nrows_ncols=(rows, cols), axes_pad=0.2)   \\n        \\nfor i, ax in enumerate(grid):\\n    im = cv2.resize(train_images.iloc[i // 2], (3*205, 3*136))\\n    if i % 2 == 1:\\n        im = remove_background(im)\\n        cv2.imwrite( f'im_path{i}.png', cv2.cvtColor(im, cv2.COLOR_RGB2BGR) )\\n    ax.imshow(im)   \\n  \"\u001b[0m\u001b[0;34m)\u001b[0m\u001b[0;34m\u001b[0m\u001b[0;34m\u001b[0m\u001b[0m\n\u001b[0m",
            "\u001b[0;32m/usr/local/lib/python3.6/dist-packages/IPython/core/interactiveshell.py\u001b[0m in \u001b[0;36mrun_cell_magic\u001b[0;34m(self, magic_name, line, cell)\u001b[0m\n\u001b[1;32m   2115\u001b[0m             \u001b[0mmagic_arg_s\u001b[0m \u001b[0;34m=\u001b[0m \u001b[0mself\u001b[0m\u001b[0;34m.\u001b[0m\u001b[0mvar_expand\u001b[0m\u001b[0;34m(\u001b[0m\u001b[0mline\u001b[0m\u001b[0;34m,\u001b[0m \u001b[0mstack_depth\u001b[0m\u001b[0;34m)\u001b[0m\u001b[0;34m\u001b[0m\u001b[0;34m\u001b[0m\u001b[0m\n\u001b[1;32m   2116\u001b[0m             \u001b[0;32mwith\u001b[0m \u001b[0mself\u001b[0m\u001b[0;34m.\u001b[0m\u001b[0mbuiltin_trap\u001b[0m\u001b[0;34m:\u001b[0m\u001b[0;34m\u001b[0m\u001b[0;34m\u001b[0m\u001b[0m\n\u001b[0;32m-> 2117\u001b[0;31m                 \u001b[0mresult\u001b[0m \u001b[0;34m=\u001b[0m \u001b[0mfn\u001b[0m\u001b[0;34m(\u001b[0m\u001b[0mmagic_arg_s\u001b[0m\u001b[0;34m,\u001b[0m \u001b[0mcell\u001b[0m\u001b[0;34m)\u001b[0m\u001b[0;34m\u001b[0m\u001b[0;34m\u001b[0m\u001b[0m\n\u001b[0m\u001b[1;32m   2118\u001b[0m             \u001b[0;32mreturn\u001b[0m \u001b[0mresult\u001b[0m\u001b[0;34m\u001b[0m\u001b[0;34m\u001b[0m\u001b[0m\n\u001b[1;32m   2119\u001b[0m \u001b[0;34m\u001b[0m\u001b[0m\n",
            "\u001b[0;32m<decorator-gen-60>\u001b[0m in \u001b[0;36mtime\u001b[0;34m(self, line, cell, local_ns)\u001b[0m\n",
            "\u001b[0;32m/usr/local/lib/python3.6/dist-packages/IPython/core/magic.py\u001b[0m in \u001b[0;36m<lambda>\u001b[0;34m(f, *a, **k)\u001b[0m\n\u001b[1;32m    186\u001b[0m     \u001b[0;31m# but it's overkill for just that one bit of state.\u001b[0m\u001b[0;34m\u001b[0m\u001b[0;34m\u001b[0m\u001b[0;34m\u001b[0m\u001b[0m\n\u001b[1;32m    187\u001b[0m     \u001b[0;32mdef\u001b[0m \u001b[0mmagic_deco\u001b[0m\u001b[0;34m(\u001b[0m\u001b[0marg\u001b[0m\u001b[0;34m)\u001b[0m\u001b[0;34m:\u001b[0m\u001b[0;34m\u001b[0m\u001b[0;34m\u001b[0m\u001b[0m\n\u001b[0;32m--> 188\u001b[0;31m         \u001b[0mcall\u001b[0m \u001b[0;34m=\u001b[0m \u001b[0;32mlambda\u001b[0m \u001b[0mf\u001b[0m\u001b[0;34m,\u001b[0m \u001b[0;34m*\u001b[0m\u001b[0ma\u001b[0m\u001b[0;34m,\u001b[0m \u001b[0;34m**\u001b[0m\u001b[0mk\u001b[0m\u001b[0;34m:\u001b[0m \u001b[0mf\u001b[0m\u001b[0;34m(\u001b[0m\u001b[0;34m*\u001b[0m\u001b[0ma\u001b[0m\u001b[0;34m,\u001b[0m \u001b[0;34m**\u001b[0m\u001b[0mk\u001b[0m\u001b[0;34m)\u001b[0m\u001b[0;34m\u001b[0m\u001b[0;34m\u001b[0m\u001b[0m\n\u001b[0m\u001b[1;32m    189\u001b[0m \u001b[0;34m\u001b[0m\u001b[0m\n\u001b[1;32m    190\u001b[0m         \u001b[0;32mif\u001b[0m \u001b[0mcallable\u001b[0m\u001b[0;34m(\u001b[0m\u001b[0marg\u001b[0m\u001b[0;34m)\u001b[0m\u001b[0;34m:\u001b[0m\u001b[0;34m\u001b[0m\u001b[0;34m\u001b[0m\u001b[0m\n",
            "\u001b[0;32m/usr/local/lib/python3.6/dist-packages/IPython/core/magics/execution.py\u001b[0m in \u001b[0;36mtime\u001b[0;34m(self, line, cell, local_ns)\u001b[0m\n\u001b[1;32m   1191\u001b[0m         \u001b[0;32melse\u001b[0m\u001b[0;34m:\u001b[0m\u001b[0;34m\u001b[0m\u001b[0;34m\u001b[0m\u001b[0m\n\u001b[1;32m   1192\u001b[0m             \u001b[0mst\u001b[0m \u001b[0;34m=\u001b[0m \u001b[0mclock2\u001b[0m\u001b[0;34m(\u001b[0m\u001b[0;34m)\u001b[0m\u001b[0;34m\u001b[0m\u001b[0;34m\u001b[0m\u001b[0m\n\u001b[0;32m-> 1193\u001b[0;31m             \u001b[0mexec\u001b[0m\u001b[0;34m(\u001b[0m\u001b[0mcode\u001b[0m\u001b[0;34m,\u001b[0m \u001b[0mglob\u001b[0m\u001b[0;34m,\u001b[0m \u001b[0mlocal_ns\u001b[0m\u001b[0;34m)\u001b[0m\u001b[0;34m\u001b[0m\u001b[0;34m\u001b[0m\u001b[0m\n\u001b[0m\u001b[1;32m   1194\u001b[0m             \u001b[0mend\u001b[0m \u001b[0;34m=\u001b[0m \u001b[0mclock2\u001b[0m\u001b[0;34m(\u001b[0m\u001b[0;34m)\u001b[0m\u001b[0;34m\u001b[0m\u001b[0;34m\u001b[0m\u001b[0m\n\u001b[1;32m   1195\u001b[0m             \u001b[0mout\u001b[0m \u001b[0;34m=\u001b[0m \u001b[0;32mNone\u001b[0m\u001b[0;34m\u001b[0m\u001b[0;34m\u001b[0m\u001b[0m\n",
            "\u001b[0;32m<timed exec>\u001b[0m in \u001b[0;36m<module>\u001b[0;34m()\u001b[0m\n",
            "\u001b[0;31mNameError\u001b[0m: name 'train_images' is not defined"
          ]
        }
      ]
    },
    {
      "cell_type": "markdown",
      "metadata": {
        "id": "Iu6E-oIhMCb_",
        "colab_type": "text"
      },
      "source": [
        "#Edit the data set  \n"
      ]
    },
    {
      "cell_type": "code",
      "metadata": {
        "id": "crINw4YZD-v2",
        "colab_type": "code",
        "colab": {}
      },
      "source": [
        "def edite_img(x) : \n",
        "  try :\n",
        "    im= load_image(x['im_path']) \n",
        "    im = cv2.resize(im, (3*205, 3*136))\n",
        "    im = remove_background(im)\n",
        "    cv2.imwrite( x['new_path'], cv2.cvtColor(im, cv2.COLOR_RGB2BGR) )\n",
        "  except : \n",
        "    print(x['im_path'])"
      ],
      "execution_count": 0,
      "outputs": []
    },
    {
      "cell_type": "code",
      "metadata": {
        "id": "rrkrpYf5NFVu",
        "colab_type": "code",
        "outputId": "c8d45b4c-7a05-427a-a3cb-421abd649795",
        "colab": {
          "base_uri": "https://localhost:8080/",
          "height": 252
        }
      },
      "source": [
        "getattr(tqdm, '_instances', {}).clear()\n",
        "\n",
        "train[train['target']!='healthy_wheat'][['im_path','new_path']].progress_apply(edite_img,axis=1)"
      ],
      "execution_count": 0,
      "outputs": [
        {
          "output_type": "stream",
          "text": [
            " 14%|█▍        | 105/734 [06:26<20:02,  1.91s/it]"
          ],
          "name": "stderr"
        },
        {
          "output_type": "stream",
          "text": [
            "/content/drive/My Drive/Zindi problems /Third/train/leaf_rust/7U06EV.gif\n"
          ],
          "name": "stdout"
        },
        {
          "output_type": "stream",
          "text": [
            "100%|██████████| 734/734 [1:00:23<00:00,  4.94s/it]\n"
          ],
          "name": "stderr"
        },
        {
          "output_type": "execute_result",
          "data": {
            "text/plain": [
              "142    None\n",
              "143    None\n",
              "144    None\n",
              "145    None\n",
              "146    None\n",
              "       ... \n",
              "871    None\n",
              "872    None\n",
              "873    None\n",
              "874    None\n",
              "875    None\n",
              "Length: 734, dtype: object"
            ]
          },
          "metadata": {
            "tags": []
          },
          "execution_count": 78
        }
      ]
    },
    {
      "cell_type": "code",
      "metadata": {
        "id": "0yS5e1rpNG6H",
        "colab_type": "code",
        "colab": {}
      },
      "source": [
        "import os\n",
        "test= pd.DataFrame()\n",
        "test['im_name'] = os.listdir('/content/drive/My Drive/Zindi problems /Third/test/') \n",
        "test['name']=test['im_name'].str.extract(r'(?P<name>\\w*).\\w*')\n",
        "\n",
        "\n",
        "test['im_path'] = '/content/drive/My Drive/Zindi problems /Third/test/'+'/'+test['im_name']\n",
        "test['new_path'] = '/content/drive/My Drive/Zindi problems /Third/Test/'+'/'+test['name']+'.png'\n",
        "\n",
        "test.to_csv(\"/content/drive/My Drive/Zindi problems /Third/test.csv\",index=False)"
      ],
      "execution_count": 0,
      "outputs": []
    },
    {
      "cell_type": "code",
      "metadata": {
        "id": "uxO6JUclTikU",
        "colab_type": "code",
        "outputId": "ee677012-ee00-4b76-d005-2041c529ccd9",
        "colab": {
          "base_uri": "https://localhost:8080/",
          "height": 252
        }
      },
      "source": [
        "getattr(tqdm, '_instances', {}).clear()\n",
        "\n",
        "test[['im_path','new_path']].progress_apply(edite_img,axis=1)"
      ],
      "execution_count": 0,
      "outputs": [
        {
          "output_type": "stream",
          "text": [
            " 75%|███████▌  | 460/611 [36:12<13:47,  5.48s/it]"
          ],
          "name": "stderr"
        },
        {
          "output_type": "stream",
          "text": [
            "/content/drive/My Drive/Zindi problems /Third/test//untitled\n"
          ],
          "name": "stdout"
        },
        {
          "output_type": "stream",
          "text": [
            "100%|██████████| 611/611 [50:07<00:00,  4.92s/it]\n"
          ],
          "name": "stderr"
        },
        {
          "output_type": "execute_result",
          "data": {
            "text/plain": [
              "0      None\n",
              "1      None\n",
              "2      None\n",
              "3      None\n",
              "4      None\n",
              "       ... \n",
              "606    None\n",
              "607    None\n",
              "608    None\n",
              "609    None\n",
              "610    None\n",
              "Length: 611, dtype: object"
            ]
          },
          "metadata": {
            "tags": []
          },
          "execution_count": 13
        }
      ]
    },
    {
      "cell_type": "code",
      "metadata": {
        "id": "PVEAdOwU9bL3",
        "colab_type": "code",
        "colab": {}
      },
      "source": [
        ""
      ],
      "execution_count": 0,
      "outputs": []
    }
  ]
}